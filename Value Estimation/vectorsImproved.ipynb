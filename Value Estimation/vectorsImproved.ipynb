{
 "cells": [
  {
   "cell_type": "code",
   "execution_count": 1,
   "id": "ef4c1199-1aa0-4302-ac91-21e6924cb6b9",
   "metadata": {},
   "outputs": [
    {
     "name": "stdout",
     "output_type": "stream",
     "text": [
      "[506.7 595.2 474.3 548.7 450.  486.3 685.5 523.5 524.1 299.4 606.  755.1\n",
      " 550.5]\n"
     ]
    }
   ],
   "source": [
    "import numpy as np\n",
    "\n",
    "sizes = np.array([\n",
    "    1689.0,\n",
    "    1984.0,\n",
    "    1581.0,\n",
    "    1829.0,\n",
    "    1500.0,\n",
    "    1621.0,\n",
    "    2285.0,\n",
    "    1745.0,\n",
    "    1747.0,\n",
    "    998.0,\n",
    "    2020.0,\n",
    "    2517.0,\n",
    "    1835.0\n",
    "])\n",
    "\n",
    "sizes = sizes * 0.3\n",
    "\n",
    "print(sizes)"
   ]
  },
  {
   "cell_type": "code",
   "execution_count": null,
   "id": "39adc399-dc68-43c7-9038-429f7f585a9d",
   "metadata": {},
   "outputs": [],
   "source": []
  }
 ],
 "metadata": {
  "kernelspec": {
   "display_name": "Python 3 (ipykernel)",
   "language": "python",
   "name": "python3"
  },
  "language_info": {
   "codemirror_mode": {
    "name": "ipython",
    "version": 3
   },
   "file_extension": ".py",
   "mimetype": "text/x-python",
   "name": "python",
   "nbconvert_exporter": "python",
   "pygments_lexer": "ipython3",
   "version": "3.9.5"
  }
 },
 "nbformat": 4,
 "nbformat_minor": 5
}
