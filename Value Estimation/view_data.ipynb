{
 "cells": [
  {
   "cell_type": "code",
   "execution_count": 2,
   "id": "e168f281-fe23-459e-8263-c9edab3171f2",
   "metadata": {},
   "outputs": [
    {
     "data": {
      "text/plain": [
       "True"
      ]
     },
     "execution_count": 2,
     "metadata": {},
     "output_type": "execute_result"
    }
   ],
   "source": [
    "import pandas as pd\n",
    "import webbrowser\n",
    "import os\n",
    "\n",
    "data_table = pd.read_csv(\"data/ml_house_data_set.csv\")\n",
    "\n",
    "html = data_table[0:100].to_html()\n",
    "\n",
    "filename = \"data.html\"\n",
    "\n",
    "with open(filename, \"w\") as f:\n",
    "    f.write(html)\n",
    "\n",
    "full_filename = os.path.abspath(filename)\n",
    "webbrowser.open(\"file///{}\".format(full_filename))"
   ]
  },
  {
   "cell_type": "code",
   "execution_count": 7,
   "id": "f27f8ac0-695a-4467-b975-da6ddc4e6b16",
   "metadata": {},
   "outputs": [
    {
     "data": {
      "text/html": [
       "<div>\n",
       "<style scoped>\n",
       "    .dataframe tbody tr th:only-of-type {\n",
       "        vertical-align: middle;\n",
       "    }\n",
       "\n",
       "    .dataframe tbody tr th {\n",
       "        vertical-align: top;\n",
       "    }\n",
       "\n",
       "    .dataframe thead th {\n",
       "        text-align: right;\n",
       "    }\n",
       "</style>\n",
       "<table border=\"1\" class=\"dataframe\">\n",
       "  <thead>\n",
       "    <tr style=\"text-align: right;\">\n",
       "      <th></th>\n",
       "      <th>year_built</th>\n",
       "      <th>stories</th>\n",
       "      <th>num_bedrooms</th>\n",
       "      <th>full_bathrooms</th>\n",
       "      <th>half_bathrooms</th>\n",
       "      <th>livable_sqft</th>\n",
       "      <th>total_sqft</th>\n",
       "      <th>garage_sqft</th>\n",
       "      <th>carport_sqft</th>\n",
       "      <th>house_number</th>\n",
       "      <th>unit_number</th>\n",
       "      <th>zip_code</th>\n",
       "      <th>sale_price</th>\n",
       "    </tr>\n",
       "  </thead>\n",
       "  <tbody>\n",
       "    <tr>\n",
       "      <th>count</th>\n",
       "      <td>42703.000000</td>\n",
       "      <td>42703.000000</td>\n",
       "      <td>42703.000000</td>\n",
       "      <td>42703.000000</td>\n",
       "      <td>42703.000000</td>\n",
       "      <td>42703.000000</td>\n",
       "      <td>42703.000000</td>\n",
       "      <td>42703.000000</td>\n",
       "      <td>42703.000000</td>\n",
       "      <td>42703.000000</td>\n",
       "      <td>3088.000000</td>\n",
       "      <td>42703.000000</td>\n",
       "      <td>4.270300e+04</td>\n",
       "    </tr>\n",
       "    <tr>\n",
       "      <th>mean</th>\n",
       "      <td>1990.993209</td>\n",
       "      <td>1.365759</td>\n",
       "      <td>3.209283</td>\n",
       "      <td>1.923659</td>\n",
       "      <td>0.527153</td>\n",
       "      <td>1987.758986</td>\n",
       "      <td>2127.155446</td>\n",
       "      <td>455.849800</td>\n",
       "      <td>41.656324</td>\n",
       "      <td>18211.767347</td>\n",
       "      <td>2027.395402</td>\n",
       "      <td>11030.991476</td>\n",
       "      <td>4.135071e+05</td>\n",
       "    </tr>\n",
       "    <tr>\n",
       "      <th>std</th>\n",
       "      <td>19.199987</td>\n",
       "      <td>0.513602</td>\n",
       "      <td>1.043396</td>\n",
       "      <td>0.759699</td>\n",
       "      <td>0.499268</td>\n",
       "      <td>846.766270</td>\n",
       "      <td>922.807342</td>\n",
       "      <td>243.453463</td>\n",
       "      <td>168.715867</td>\n",
       "      <td>27457.109993</td>\n",
       "      <td>1141.383770</td>\n",
       "      <td>573.576228</td>\n",
       "      <td>3.185497e+05</td>\n",
       "    </tr>\n",
       "    <tr>\n",
       "      <th>min</th>\n",
       "      <td>1852.000000</td>\n",
       "      <td>0.000000</td>\n",
       "      <td>0.000000</td>\n",
       "      <td>0.000000</td>\n",
       "      <td>0.000000</td>\n",
       "      <td>-3.000000</td>\n",
       "      <td>5.000000</td>\n",
       "      <td>-4.000000</td>\n",
       "      <td>0.000000</td>\n",
       "      <td>0.000000</td>\n",
       "      <td>3.000000</td>\n",
       "      <td>10004.000000</td>\n",
       "      <td>6.260000e+02</td>\n",
       "    </tr>\n",
       "    <tr>\n",
       "      <th>25%</th>\n",
       "      <td>1980.000000</td>\n",
       "      <td>1.000000</td>\n",
       "      <td>3.000000</td>\n",
       "      <td>1.000000</td>\n",
       "      <td>0.000000</td>\n",
       "      <td>1380.000000</td>\n",
       "      <td>1466.000000</td>\n",
       "      <td>412.000000</td>\n",
       "      <td>0.000000</td>\n",
       "      <td>674.000000</td>\n",
       "      <td>1063.000000</td>\n",
       "      <td>10537.000000</td>\n",
       "      <td>2.708990e+05</td>\n",
       "    </tr>\n",
       "    <tr>\n",
       "      <th>50%</th>\n",
       "      <td>1994.000000</td>\n",
       "      <td>1.000000</td>\n",
       "      <td>3.000000</td>\n",
       "      <td>2.000000</td>\n",
       "      <td>1.000000</td>\n",
       "      <td>1808.000000</td>\n",
       "      <td>1937.000000</td>\n",
       "      <td>464.000000</td>\n",
       "      <td>0.000000</td>\n",
       "      <td>4530.000000</td>\n",
       "      <td>2033.000000</td>\n",
       "      <td>11071.000000</td>\n",
       "      <td>3.780010e+05</td>\n",
       "    </tr>\n",
       "    <tr>\n",
       "      <th>75%</th>\n",
       "      <td>2005.000000</td>\n",
       "      <td>2.000000</td>\n",
       "      <td>4.000000</td>\n",
       "      <td>2.000000</td>\n",
       "      <td>1.000000</td>\n",
       "      <td>2486.000000</td>\n",
       "      <td>2640.000000</td>\n",
       "      <td>606.000000</td>\n",
       "      <td>0.000000</td>\n",
       "      <td>24844.500000</td>\n",
       "      <td>2921.000000</td>\n",
       "      <td>11510.000000</td>\n",
       "      <td>4.976970e+05</td>\n",
       "    </tr>\n",
       "    <tr>\n",
       "      <th>max</th>\n",
       "      <td>2017.000000</td>\n",
       "      <td>4.000000</td>\n",
       "      <td>31.000000</td>\n",
       "      <td>8.000000</td>\n",
       "      <td>1.000000</td>\n",
       "      <td>12406.000000</td>\n",
       "      <td>15449.000000</td>\n",
       "      <td>8318.000000</td>\n",
       "      <td>9200.000000</td>\n",
       "      <td>99971.000000</td>\n",
       "      <td>3998.000000</td>\n",
       "      <td>11989.000000</td>\n",
       "      <td>2.104200e+07</td>\n",
       "    </tr>\n",
       "  </tbody>\n",
       "</table>\n",
       "</div>"
      ],
      "text/plain": [
       "         year_built       stories  num_bedrooms  full_bathrooms  \\\n",
       "count  42703.000000  42703.000000  42703.000000    42703.000000   \n",
       "mean    1990.993209      1.365759      3.209283        1.923659   \n",
       "std       19.199987      0.513602      1.043396        0.759699   \n",
       "min     1852.000000      0.000000      0.000000        0.000000   \n",
       "25%     1980.000000      1.000000      3.000000        1.000000   \n",
       "50%     1994.000000      1.000000      3.000000        2.000000   \n",
       "75%     2005.000000      2.000000      4.000000        2.000000   \n",
       "max     2017.000000      4.000000     31.000000        8.000000   \n",
       "\n",
       "       half_bathrooms  livable_sqft    total_sqft   garage_sqft  carport_sqft  \\\n",
       "count    42703.000000  42703.000000  42703.000000  42703.000000  42703.000000   \n",
       "mean         0.527153   1987.758986   2127.155446    455.849800     41.656324   \n",
       "std          0.499268    846.766270    922.807342    243.453463    168.715867   \n",
       "min          0.000000     -3.000000      5.000000     -4.000000      0.000000   \n",
       "25%          0.000000   1380.000000   1466.000000    412.000000      0.000000   \n",
       "50%          1.000000   1808.000000   1937.000000    464.000000      0.000000   \n",
       "75%          1.000000   2486.000000   2640.000000    606.000000      0.000000   \n",
       "max          1.000000  12406.000000  15449.000000   8318.000000   9200.000000   \n",
       "\n",
       "       house_number  unit_number      zip_code    sale_price  \n",
       "count  42703.000000  3088.000000  42703.000000  4.270300e+04  \n",
       "mean   18211.767347  2027.395402  11030.991476  4.135071e+05  \n",
       "std    27457.109993  1141.383770    573.576228  3.185497e+05  \n",
       "min        0.000000     3.000000  10004.000000  6.260000e+02  \n",
       "25%      674.000000  1063.000000  10537.000000  2.708990e+05  \n",
       "50%     4530.000000  2033.000000  11071.000000  3.780010e+05  \n",
       "75%    24844.500000  2921.000000  11510.000000  4.976970e+05  \n",
       "max    99971.000000  3998.000000  11989.000000  2.104200e+07  "
      ]
     },
     "execution_count": 7,
     "metadata": {},
     "output_type": "execute_result"
    }
   ],
   "source": [
    "data_table.describe()"
   ]
  },
  {
   "cell_type": "code",
   "execution_count": 11,
   "id": "3ebef105-2b9d-4382-b3a3-4e164521283d",
   "metadata": {},
   "outputs": [
    {
     "data": {
      "text/plain": [
       "1    27624\n",
       "2    14666\n",
       "3      278\n",
       "4      133\n",
       "0        2\n",
       "Name: stories, dtype: int64"
      ]
     },
     "execution_count": 11,
     "metadata": {},
     "output_type": "execute_result"
    }
   ],
   "source": [
    "data_table['stories'].value_counts()"
   ]
  },
  {
   "cell_type": "code",
   "execution_count": 12,
   "id": "fefda0df-998b-4a70-8cf3-bbbeeb22daab",
   "metadata": {},
   "outputs": [
    {
     "data": {
      "text/plain": [
       "year_built                 0\n",
       "stories                    0\n",
       "num_bedrooms               0\n",
       "full_bathrooms             0\n",
       "half_bathrooms             0\n",
       "livable_sqft               0\n",
       "total_sqft                 0\n",
       "garage_type                0\n",
       "garage_sqft                0\n",
       "carport_sqft               0\n",
       "has_fireplace              0\n",
       "has_pool                   0\n",
       "has_central_heating        0\n",
       "has_central_cooling        0\n",
       "house_number               0\n",
       "street_name                0\n",
       "unit_number            39615\n",
       "city                       0\n",
       "zip_code                   0\n",
       "sale_price                 0\n",
       "dtype: int64"
      ]
     },
     "execution_count": 12,
     "metadata": {},
     "output_type": "execute_result"
    }
   ],
   "source": [
    "data_table.isna().sum()"
   ]
  },
  {
   "cell_type": "code",
   "execution_count": 13,
   "id": "485db307-bee7-4077-b5ac-d5b82df6b5be",
   "metadata": {},
   "outputs": [],
   "source": [
    "data_table['unit_number'] = data_table[['unit_number']].fillna(0)"
   ]
  },
  {
   "cell_type": "code",
   "execution_count": 15,
   "id": "5ec69b38-0409-4abb-aedc-820535d09862",
   "metadata": {},
   "outputs": [
    {
     "data": {
      "text/html": [
       "<div>\n",
       "<style scoped>\n",
       "    .dataframe tbody tr th:only-of-type {\n",
       "        vertical-align: middle;\n",
       "    }\n",
       "\n",
       "    .dataframe tbody tr th {\n",
       "        vertical-align: top;\n",
       "    }\n",
       "\n",
       "    .dataframe thead th {\n",
       "        text-align: right;\n",
       "    }\n",
       "</style>\n",
       "<table border=\"1\" class=\"dataframe\">\n",
       "  <thead>\n",
       "    <tr style=\"text-align: right;\">\n",
       "      <th></th>\n",
       "      <th>garage_type</th>\n",
       "      <th>street_name</th>\n",
       "      <th>city</th>\n",
       "    </tr>\n",
       "  </thead>\n",
       "  <tbody>\n",
       "    <tr>\n",
       "      <th>count</th>\n",
       "      <td>42703</td>\n",
       "      <td>42703</td>\n",
       "      <td>42703</td>\n",
       "    </tr>\n",
       "    <tr>\n",
       "      <th>unique</th>\n",
       "      <td>3</td>\n",
       "      <td>11124</td>\n",
       "      <td>47</td>\n",
       "    </tr>\n",
       "    <tr>\n",
       "      <th>top</th>\n",
       "      <td>attached</td>\n",
       "      <td>Matthew Points</td>\n",
       "      <td>Chadstad</td>\n",
       "    </tr>\n",
       "    <tr>\n",
       "      <th>freq</th>\n",
       "      <td>34079</td>\n",
       "      <td>128</td>\n",
       "      <td>4962</td>\n",
       "    </tr>\n",
       "  </tbody>\n",
       "</table>\n",
       "</div>"
      ],
      "text/plain": [
       "       garage_type     street_name      city\n",
       "count        42703           42703     42703\n",
       "unique           3           11124        47\n",
       "top       attached  Matthew Points  Chadstad\n",
       "freq         34079             128      4962"
      ]
     },
     "execution_count": 15,
     "metadata": {},
     "output_type": "execute_result"
    }
   ],
   "source": [
    "data_table.describe(include =\"object\")"
   ]
  },
  {
   "cell_type": "code",
   "execution_count": 17,
   "id": "69ac2100-9280-4f9f-b4f8-50569a26d13c",
   "metadata": {},
   "outputs": [],
   "source": [
    "import matplotlib.pyplot as plt"
   ]
  },
  {
   "cell_type": "code",
   "execution_count": 18,
   "id": "9de68b54-597e-4a8d-8d74-0fb9160ee7f7",
   "metadata": {},
   "outputs": [
    {
     "data": {
      "text/plain": [
       "(array([1.2682e+04, 2.4111e+04, 5.3110e+03, 4.6100e+02, 1.0500e+02,\n",
       "        1.9000e+01, 8.0000e+00, 3.0000e+00, 2.0000e+00, 1.0000e+00]),\n",
       " array([5.00000e+00, 1.54940e+03, 3.09380e+03, 4.63820e+03, 6.18260e+03,\n",
       "        7.72700e+03, 9.27140e+03, 1.08158e+04, 1.23602e+04, 1.39046e+04,\n",
       "        1.54490e+04]),\n",
       " <BarContainer object of 10 artists>)"
      ]
     },
     "execution_count": 18,
     "metadata": {},
     "output_type": "execute_result"
    },
    {
     "data": {
      "image/png": "[encoded data removed]",
      "text/plain": [
       "<Figure size 432x288 with 1 Axes>"
      ]
     },
     "metadata": {
      "needs_background": "light"
     },
     "output_type": "display_data"
    }
   ],
   "source": [
    "plt.hist(data_table['total_sqft'])"
   ]
  },
  {
   "cell_type": "code",
   "execution_count": 19,
   "id": "ae76d926-de11-4425-9e7c-3f01bdf28c11",
   "metadata": {},
   "outputs": [
    {
     "data": {
      "text/plain": [
       "<AxesSubplot: ylabel='garage_type'>"
      ]
     },
     "execution_count": 19,
     "metadata": {},
     "output_type": "execute_result"
    },
    {
     "data": {
      "image/png": "[encoded data removed]",
      "text/plain": [
       "<Figure size 432x288 with 1 Axes>"
      ]
     },
     "metadata": {},
     "output_type": "display_data"
    }
   ],
   "source": [
    "data_table['garage_type'].value_counts().plot(kind='pie', autopct='%1.0ft%%')"
   ]
  },
  {
   "cell_type": "code",
   "execution_count": 20,
   "id": "8993cf78-2b49-466d-9024-718b1adf6475",
   "metadata": {},
   "outputs": [
    {
     "data": {
      "text/plain": [
       "<matplotlib.collections.PathCollection at 0x22d9ffc1220>"
      ]
     },
     "execution_count": 20,
     "metadata": {},
     "output_type": "execute_result"
    },
    {
     "data": {
      "image/png": "[encoded data removed]",
      "text/plain": [
       "<Figure size 432x288 with 1 Axes>"
      ]
     },
     "metadata": {
      "needs_background": "light"
     },
     "output_type": "display_data"
    }
   ],
   "source": [
    "plt.scatter(x=data_table['livable_sqft'],y=data_table['total_sqft'])"
   ]
  },
  {
   "cell_type": "code",
   "execution_count": 21,
   "id": "652ea04a-59bb-4774-959c-d808d4fe58bf",
   "metadata": {},
   "outputs": [
    {
     "data": {
      "text/plain": [
       "0.9754500463696796"
      ]
     },
     "execution_count": 21,
     "metadata": {},
     "output_type": "execute_result"
    }
   ],
   "source": [
    "data_table['livable_sqft'].corr(data_table['total_sqft'])"
   ]
  },
  {
   "cell_type": "code",
   "execution_count": null,
   "id": "98c2609f-2005-4bda-9b08-ff437bc22a88",
   "metadata": {},
   "outputs": [],
   "source": []
  }
 ],
 "metadata": {
  "kernelspec": {
   "display_name": "Python 3",
   "language": "python",
   "name": "python3"
  },
  "language_info": {
   "codemirror_mode": {
    "name": "ipython",
    "version": 3
   },
   "file_extension": ".py",
   "mimetype": "text/x-python",
   "name": "python",
   "nbconvert_exporter": "python",
   "pygments_lexer": "ipython3",
   "version": "3.11.0"
  },
  "vscode": {
   "interpreter": {
    "hash": "c261aea317cc0286b3b3261fbba9abdec21eaa57589985bb7a274bf54d6cc0a7"
   }
  }
 },
 "nbformat": 4,
 "nbformat_minor": 5
}
