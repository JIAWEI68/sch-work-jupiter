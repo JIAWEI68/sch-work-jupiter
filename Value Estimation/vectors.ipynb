{
 "cells": [
  {
   "cell_type": "code",
   "execution_count": 2,
   "id": "c4340c63-d83c-434a-bada-0c925867bba8",
   "metadata": {},
   "outputs": [
    {
     "name": "stdout",
     "output_type": "stream",
     "text": [
      "Updating row 0\n",
      "Updating row 1\n",
      "Updating row 2\n",
      "Updating row 3\n",
      "Updating row 4\n",
      "Updating row 5\n",
      "Updating row 6\n",
      "Updating row 7\n",
      "Updating row 8\n",
      "Updating row 9\n",
      "Updating row 10\n",
      "Updating row 11\n",
      "Updating row 12\n",
      "[506.7, 595.1999999999999, 474.29999999999995, 548.6999999999999, 450.0, 486.29999999999995, 685.5, 523.5, 524.1, 299.4, 606.0, 755.1, 550.5]\n"
     ]
    }
   ],
   "source": [
    "sizes = [\n",
    "    1689.0,\n",
    "    1984.0,\n",
    "    1581.0,\n",
    "    1829.0,\n",
    "    1500.0,\n",
    "    1621.0,\n",
    "    2285.0,\n",
    "    1745.0,\n",
    "    1747.0,\n",
    "    998.0,\n",
    "    2020.0,\n",
    "    2517.0,\n",
    "    1835.0\n",
    "]\n",
    "\n",
    "for i, value in enumerate(sizes):\n",
    "    print(\"Updating row {}\".format(i))\n",
    "    sizes[i] = value * 0.3\n",
    "\n",
    "print(sizes)"
   ]
  },
  {
   "cell_type": "code",
   "execution_count": null,
   "id": "61df4794-cbd6-4a82-9a9d-5e6051c06a11",
   "metadata": {},
   "outputs": [],
   "source": []
  }
 ],
 "metadata": {
  "kernelspec": {
   "display_name": "Python 3 (ipykernel)",
   "language": "python",
   "name": "python3"
  },
  "language_info": {
   "codemirror_mode": {
    "name": "ipython",
    "version": 3
   },
   "file_extension": ".py",
   "mimetype": "text/x-python",
   "name": "python",
   "nbconvert_exporter": "python",
   "pygments_lexer": "ipython3",
   "version": "3.9.5"
  },
  "vscode": {
   "interpreter": {
    "hash": "95dec33e47c85f12e0e716dc7e67c6036277a1191db17df37e1676f331928323"
   }
  }
 },
 "nbformat": 4,
 "nbformat_minor": 5
}
