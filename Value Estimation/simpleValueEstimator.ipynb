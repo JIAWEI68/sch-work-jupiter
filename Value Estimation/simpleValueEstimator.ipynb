{
 "cells": [
  {
   "cell_type": "code",
   "execution_count": 3,
   "id": "1484dd7f-b120-40a6-a4ac-dc21be7d81e1",
   "metadata": {},
   "outputs": [
    {
     "name": "stdout",
     "output_type": "stream",
     "text": [
      "Estimated valued:\n",
      "449600\n"
     ]
    }
   ],
   "source": [
    "def estimate_home_value(size_in_sqft, number_of_bedrooms):\n",
    "    # Assume all homes are worth at least $50,000\n",
    "    value = 50000\n",
    "    # Adjust the value estimate based on the size of the house\n",
    "    value = value + (size_in_sqft * 92)\n",
    "    # Adjust the value estimate based on the number of bedrooms\n",
    "    value = value + (number_of_bedrooms * 10000)\n",
    "    return value\n",
    "# Estimate the value of our house:\n",
    "# - 5 bedrooms\n",
    "# - 3800 sq ft\n",
    "# Actual value: $450,000\n",
    "    house_value1 = 50000 + (3800 * 10) + (5 * weight2)\n",
    "    house_value2 = 50000 + (2200 * weight1) + (4 * weight2)\n",
    "    house_value3 = 50000 + (1150 * weight1) + (2 * weight2)\n",
    "\n",
    "value = estimate_home_value(3800, 5)\n",
    "print(\"Estimated valued:\")\n",
    "print(value)\n"
   ]
  }
 ],
 "metadata": {
  "kernelspec": {
   "display_name": "Python 3 (ipykernel)",
   "language": "python",
   "name": "python3"
  },
  "language_info": {
   "codemirror_mode": {
    "name": "ipython",
    "version": 3
   },
   "file_extension": ".py",
   "mimetype": "text/x-python",
   "name": "python",
   "nbconvert_exporter": "python",
   "pygments_lexer": "ipython3",
   "version": "3.9.5"
  },
  "vscode": {
   "interpreter": {
    "hash": "95dec33e47c85f12e0e716dc7e67c6036277a1191db17df37e1676f331928323"
   }
  }
 },
 "nbformat": 4,
 "nbformat_minor": 5
}
