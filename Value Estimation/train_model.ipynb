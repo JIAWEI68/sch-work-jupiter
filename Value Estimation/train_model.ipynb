{
 "cells": [
  {
   "cell_type": "code",
   "execution_count": 1,
   "id": "ae1b9c75-1000-4979-a3e2-20857c6bccd6",
   "metadata": {},
   "outputs": [],
   "source": [
    "import pandas as pd\n",
    "from sklearn.model_selection import train_test_split\n",
    "from sklearn import ensemble\n",
    "from sklearn.metrics import mean_absolute_error\n",
    "import joblib\n",
    "\n",
    "df = pd.read_csv(\"data/ml_house_data_set.csv\")\n",
    "\n",
    "del df[\"house_number\"]\n",
    "del df[\"unit_number\"]\n",
    "del df[\"street_name\"]\n",
    "del df[\"zip_code\"]\n",
    "\n",
    "features_df = pd.get_dummies(df,columns=[\"garage_type\",\"city\"])\n",
    "\n",
    "del features_df[\"sale_price\"]\n",
    "\n",
    "X = features_df.to_numpy()\n",
    "y = df[\"sale_price\"].to_numpy()"
   ]
  },
  {
   "cell_type": "code",
   "execution_count": 2,
   "id": "b5ca2546-1ddb-4f2a-a1fa-449779cc62e0",
   "metadata": {},
   "outputs": [
    {
     "data": {
      "text/plain": [
       "['models/trained_house_regressor_model.pkl']"
      ]
     },
     "execution_count": 2,
     "metadata": {},
     "output_type": "execute_result"
    }
   ],
   "source": [
    "X_train, X_test, y_train, y_test = train_test_split(X, y, train_size = 0.3, random_state=7)\n",
    "\n",
    "model = ensemble.GradientBoostingRegressor(\n",
    "        n_estimators = 1000,\n",
    "        learning_rate = 0.1,\n",
    "        max_depth = 6,\n",
    "        min_samples_leaf = 9,\n",
    "        max_features = 0.1,\n",
    "        loss = \"huber\",\n",
    "        random_state = 7\n",
    ")\n",
    "\n",
    "model.fit(X_train, y_train)\n",
    "\n",
    "joblib.dump(model,'models/trained_house_regressor_model.pkl')"
   ]
  },
  {
   "cell_type": "code",
   "execution_count": 3,
   "id": "39f0ade2-2096-47c2-bd9c-402730c1c3d5",
   "metadata": {},
   "outputs": [
    {
     "name": "stdout",
     "output_type": "stream",
     "text": [
      "Training Set Mean Absolute Error: 44607.1253\n",
      "Test Set Mean Absolute Error: 61940.0450\n"
     ]
    }
   ],
   "source": [
    "mse = mean_absolute_error(y_train, model.predict(X_train))\n",
    "print(\"Training Set Mean Absolute Error: %.4f\" % mse)\n",
    "\n",
    "mse = mean_absolute_error(y_test, model.predict(X_test))\n",
    "print(\"Test Set Mean Absolute Error: %.4f\" % mse)"
   ]
  },
  {
   "cell_type": "code",
   "execution_count": null,
   "id": "761474ab-f5e7-41d9-afa2-f18abc70b219",
   "metadata": {},
   "outputs": [],
   "source": []
  }
 ],
 "metadata": {
  "kernelspec": {
   "display_name": "Python 3 (ipykernel)",
   "language": "python",
   "name": "python3"
  },
  "language_info": {
   "codemirror_mode": {
    "name": "ipython",
    "version": 3
   },
   "file_extension": ".py",
   "mimetype": "text/x-python",
   "name": "python",
   "nbconvert_exporter": "python",
   "pygments_lexer": "ipython3",
   "version": "3.9.5"
  },
  "vscode": {
   "interpreter": {
    "hash": "95dec33e47c85f12e0e716dc7e67c6036277a1191db17df37e1676f331928323"
   }
  }
 },
 "nbformat": 4,
 "nbformat_minor": 5
}
