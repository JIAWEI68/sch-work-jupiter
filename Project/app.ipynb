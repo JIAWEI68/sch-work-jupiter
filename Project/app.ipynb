{
 "cells": [
  {
   "cell_type": "code",
   "execution_count": 111,
   "metadata": {},
   "outputs": [],
   "source": [
    "from flask import Flask, render_template, request\n",
    "import joblib\n",
    "import numpy as np\n",
    "from flask_cors import CORS"
   ]
  },
  {
   "cell_type": "code",
   "execution_count": 112,
   "metadata": {},
   "outputs": [],
   "source": [
    "app = Flask(__name__)\n",
    "CORS(app)\n",
    "model = joblib.load('Model/heart_disease_final_model.pkl')"
   ]
  },
  {
   "cell_type": "code",
   "execution_count": 113,
   "metadata": {},
   "outputs": [
    {
     "name": "stdout",
     "output_type": "stream",
     "text": [
      "Presence of Cardiovascular Disease:  [1]\n"
     ]
    }
   ],
   "source": [
    "print(\"Presence of Cardiovascular Disease: \", model.predict([[65, 3, 158, 75.0, 170, 20, 1]]))"
   ]
  },
  {
   "cell_type": "code",
   "execution_count": 114,
   "metadata": {},
   "outputs": [],
   "source": [
    "@app.route('/predict', methods=['POST'])\n",
    "def predict():\n",
    "    age = int(request.json['age'])\n",
    "    weight = int(float(request.json['weight']))\n",
    "    height = int(request.json['height'])\n",
    "    ap_hi = int(request.json['ap_hi'])\n",
    "    ap_lo = int(request.json['ap_lo'])\n",
    "    cholesterol = int(request.json['cholesterol'])\n",
    "    gender = int(request.json['gender'])\n",
    "    features = np.array([age, cholesterol, height, weight, ap_hi, ap_lo, gender])\n",
    "    prediction = model.predict(features.reshape(1, -1))\n",
    "    return str(prediction)\n"
   ]
  },
  {
   "cell_type": "code",
   "execution_count": 115,
   "metadata": {},
   "outputs": [
    {
     "name": "stdout",
     "output_type": "stream",
     "text": [
      " * Serving Flask app '__main__' (lazy loading)\n",
      " * Environment: production\n",
      "\u001b[31m   WARNING: This is a development server. Do not use it in a production deployment.\u001b[0m\n",
      "\u001b[2m   Use a production WSGI server instead.\u001b[0m\n",
      " * Debug mode: off\n"
     ]
    },
    {
     "name": "stderr",
     "output_type": "stream",
     "text": [
      " * Running on http://127.0.0.1:5000/ (Press CTRL+C to quit)\n",
      "127.0.0.1 - - [16/Feb/2023 17:16:16] \"OPTIONS /predict HTTP/1.1\" 200 -\n",
      "127.0.0.1 - - [16/Feb/2023 17:16:16] \"POST /predict HTTP/1.1\" 200 -\n",
      "127.0.0.1 - - [16/Feb/2023 17:16:23] \"OPTIONS /predict HTTP/1.1\" 200 -\n",
      "127.0.0.1 - - [16/Feb/2023 17:16:23] \"POST /predict HTTP/1.1\" 200 -\n",
      "127.0.0.1 - - [16/Feb/2023 17:16:23] \"POST /predict HTTP/1.1\" 200 -\n"
     ]
    }
   ],
   "source": [
    "if __name__ == '__main__':\n",
    "    app.run(debug=False)"
   ]
  }
 ],
 "metadata": {
  "kernelspec": {
   "display_name": "base",
   "language": "python",
   "name": "python3"
  },
  "language_info": {
   "codemirror_mode": {
    "name": "ipython",
    "version": 3
   },
   "file_extension": ".py",
   "mimetype": "text/x-python",
   "name": "python",
   "nbconvert_exporter": "python",
   "pygments_lexer": "ipython3",
   "version": "3.9.5"
  },
  "orig_nbformat": 4,
  "vscode": {
   "interpreter": {
    "hash": "95dec33e47c85f12e0e716dc7e67c6036277a1191db17df37e1676f331928323"
   }
  }
 },
 "nbformat": 4,
 "nbformat_minor": 2
}
