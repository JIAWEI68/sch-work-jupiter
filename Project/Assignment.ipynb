{
 "cells": [
  {
   "cell_type": "code",
   "execution_count": 1,
   "metadata": {},
   "outputs": [],
   "source": [
    "import pandas\n",
    "import numpy\n"
   ]
  },
  {
   "cell_type": "code",
   "execution_count": 13,
   "metadata": {},
   "outputs": [
    {
     "name": "stdout",
     "output_type": "stream",
     "text": [
      "   Unnamed: 0   airline   flight source_city departure_time stops  \\\n",
      "0           0  SpiceJet  SG-8709       Delhi        Evening  zero   \n",
      "1           1  SpiceJet  SG-8157       Delhi  Early_Morning  zero   \n",
      "2           2   AirAsia   I5-764       Delhi  Early_Morning  zero   \n",
      "3           3   Vistara   UK-995       Delhi        Morning  zero   \n",
      "4           4   Vistara   UK-963       Delhi        Morning  zero   \n",
      "\n",
      "    arrival_time destination_city    class  duration  days_left  price  \n",
      "0          Night           Mumbai  Economy      2.17          1   5953  \n",
      "1        Morning           Mumbai  Economy      2.33          1   5953  \n",
      "2  Early_Morning           Mumbai  Economy      2.17          1   5956  \n",
      "3      Afternoon           Mumbai  Economy      2.25          1   5955  \n",
      "4        Morning           Mumbai  Economy      2.33          1   5955  \n"
     ]
    }
   ],
   "source": [
    "data = pandas.read_csv('Data/Clean_Dataset.csv')\n",
    "print(data.head())\n"
   ]
  },
  {
   "cell_type": "code",
   "execution_count": 11,
   "metadata": {},
   "outputs": [
    {
     "name": "stdout",
     "output_type": "stream",
     "text": [
      "        Unnamed: 0   airline   flight source_city departure_time stops  \\\n",
      "0                0  SpiceJet  SG-8709       Delhi        Evening  zero   \n",
      "1                1  SpiceJet  SG-8157       Delhi  Early_Morning  zero   \n",
      "2                2   AirAsia   I5-764       Delhi  Early_Morning  zero   \n",
      "3                3   Vistara   UK-995       Delhi        Morning  zero   \n",
      "4                4   Vistara   UK-963       Delhi        Morning  zero   \n",
      "...            ...       ...      ...         ...            ...   ...   \n",
      "300148      300148   Vistara   UK-822     Chennai        Morning   one   \n",
      "300149      300149   Vistara   UK-826     Chennai      Afternoon   one   \n",
      "300150      300150   Vistara   UK-832     Chennai  Early_Morning   one   \n",
      "300151      300151   Vistara   UK-828     Chennai  Early_Morning   one   \n",
      "300152      300152   Vistara   UK-822     Chennai        Morning   one   \n",
      "\n",
      "         arrival_time destination_city     class  duration  days_left  price  \n",
      "0               Night           Mumbai   Economy      2.17          1   5953  \n",
      "1             Morning           Mumbai   Economy      2.33          1   5953  \n",
      "2       Early_Morning           Mumbai   Economy      2.17          1   5956  \n",
      "3           Afternoon           Mumbai   Economy      2.25          1   5955  \n",
      "4             Morning           Mumbai   Economy      2.33          1   5955  \n",
      "...               ...              ...       ...       ...        ...    ...  \n",
      "300148        Evening        Hyderabad  Business     10.08         49  69265  \n",
      "300149          Night        Hyderabad  Business     10.42         49  77105  \n",
      "300150          Night        Hyderabad  Business     13.83         49  79099  \n",
      "300151        Evening        Hyderabad  Business     10.00         49  81585  \n",
      "300152        Evening        Hyderabad  Business     10.08         49  81585  \n",
      "\n",
      "[300153 rows x 12 columns]\n"
     ]
    }
   ],
   "source": []
  },
  {
   "cell_type": "code",
   "execution_count": null,
   "metadata": {},
   "outputs": [],
   "source": []
  }
 ],
 "metadata": {
  "kernelspec": {
   "display_name": "base",
   "language": "python",
   "name": "python3"
  },
  "language_info": {
   "codemirror_mode": {
    "name": "ipython",
    "version": 3
   },
   "file_extension": ".py",
   "mimetype": "text/x-python",
   "name": "python",
   "nbconvert_exporter": "python",
   "pygments_lexer": "ipython3",
   "version": "3.9.5"
  },
  "orig_nbformat": 4,
  "vscode": {
   "interpreter": {
    "hash": "95dec33e47c85f12e0e716dc7e67c6036277a1191db17df37e1676f331928323"
   }
  }
 },
 "nbformat": 4,
 "nbformat_minor": 2
}
